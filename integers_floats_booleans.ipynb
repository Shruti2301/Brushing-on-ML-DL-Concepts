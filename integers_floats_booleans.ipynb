{
  "nbformat": 4,
  "nbformat_minor": 0,
  "metadata": {
    "kernelspec": {
      "display_name": "Python 3",
      "language": "python",
      "name": "python3"
    },
    "language_info": {
      "codemirror_mode": {
        "name": "ipython",
        "version": 3
      },
      "file_extension": ".py",
      "mimetype": "text/x-python",
      "name": "python",
      "nbconvert_exporter": "python",
      "pygments_lexer": "ipython3",
      "version": "3.7.4"
    },
    "colab": {
      "provenance": [],
      "collapsed_sections": [
        "gW5YEnarJbPO",
        "1--OZJQAJbPW",
        "eo0mqrbOJbPb",
        "tRtsrmQoJbPt",
        "XTNlwY9rJbQG",
        "zXobe57HJbQM",
        "JCs_Qrt-JbQS",
        "HXhCSJvBJbQY",
        "HHQGVtfyJbQe",
        "9A0hrb1EJbQk"
      ]
    }
  },
  "cells": [
    {
      "cell_type": "markdown",
      "metadata": {
        "id": "UhmgnA67JbOo"
      },
      "source": [
        "## Different data types we will encounter in Python\n",
        "* ### <u>Numeric</u>  - Numeric variables take values which are numbers like 9, 3.14, 0, Inf\n",
        "\n",
        "\n",
        "* ### <u>String </u>  - String variables are used to store textual information\n",
        "\n",
        "\n",
        "* ### <u>Boolean</u>  - Boolean variables have two modes either True or False. A definite judge of statements!\n",
        "\n",
        "\n",
        "* ### <u>Datetime </u> - These variables are used to store date and time values such as 2020-08-01 12:23:54"
      ]
    },
    {
      "cell_type": "markdown",
      "metadata": {
        "id": "I9Fwf5ooJbOq"
      },
      "source": [
        "# <u> Integers and Floats </u>"
      ]
    },
    {
      "cell_type": "markdown",
      "metadata": {
        "id": "Mfy5IszoJbOr"
      },
      "source": [
        "## Basic Arithmetic "
      ]
    },
    {
      "cell_type": "code",
      "metadata": {
        "id": "sn4BtpEIJbOr",
        "colab": {
          "base_uri": "https://localhost:8080/"
        },
        "outputId": "c8413700-832e-44f1-d4fd-7bb18335a172"
      },
      "source": [
        "# Addition\n",
        "2+1"
      ],
      "execution_count": 1,
      "outputs": [
        {
          "output_type": "execute_result",
          "data": {
            "text/plain": [
              "3"
            ]
          },
          "metadata": {},
          "execution_count": 1
        }
      ]
    },
    {
      "cell_type": "code",
      "metadata": {
        "id": "oQYLI1w4JbOx",
        "colab": {
          "base_uri": "https://localhost:8080/"
        },
        "outputId": "6ad9bdf6-d49b-4def-83e2-209c1a019412"
      },
      "source": [
        "# Subtraction\n",
        "2-5"
      ],
      "execution_count": 2,
      "outputs": [
        {
          "output_type": "execute_result",
          "data": {
            "text/plain": [
              "-3"
            ]
          },
          "metadata": {},
          "execution_count": 2
        }
      ]
    },
    {
      "cell_type": "code",
      "metadata": {
        "id": "ZRun8NmAJbO0",
        "colab": {
          "base_uri": "https://localhost:8080/"
        },
        "outputId": "a0246f47-b2fd-4888-9cb1-718eab6b2c57"
      },
      "source": [
        "# Multiplication\n",
        "2*2"
      ],
      "execution_count": 3,
      "outputs": [
        {
          "output_type": "execute_result",
          "data": {
            "text/plain": [
              "4"
            ]
          },
          "metadata": {},
          "execution_count": 3
        }
      ]
    },
    {
      "cell_type": "code",
      "metadata": {
        "id": "etEpKlXqJbO2",
        "colab": {
          "base_uri": "https://localhost:8080/"
        },
        "outputId": "c46b07c2-0e51-47a8-9da9-3ebf7cc81d6d"
      },
      "source": [
        "# Division\n",
        "3/2"
      ],
      "execution_count": 4,
      "outputs": [
        {
          "output_type": "execute_result",
          "data": {
            "text/plain": [
              "1.5"
            ]
          },
          "metadata": {},
          "execution_count": 4
        }
      ]
    },
    {
      "cell_type": "code",
      "metadata": {
        "id": "_6rPJxI6JbO5",
        "colab": {
          "base_uri": "https://localhost:8080/"
        },
        "outputId": "09be4d7d-dbc6-464e-ffe9-a87a04703452"
      },
      "source": [
        "# Floor Division\n",
        "7//2"
      ],
      "execution_count": 5,
      "outputs": [
        {
          "output_type": "execute_result",
          "data": {
            "text/plain": [
              "3"
            ]
          },
          "metadata": {},
          "execution_count": 5
        }
      ]
    },
    {
      "cell_type": "code",
      "metadata": {
        "id": "-nwZ9QhfJbO8",
        "colab": {
          "base_uri": "https://localhost:8080/"
        },
        "outputId": "df92d3bb-f4a4-402f-e9ed-854b8c474ee3"
      },
      "source": [
        "# Exponentiation\n",
        "2**5"
      ],
      "execution_count": 6,
      "outputs": [
        {
          "output_type": "execute_result",
          "data": {
            "text/plain": [
              "32"
            ]
          },
          "metadata": {},
          "execution_count": 6
        }
      ]
    },
    {
      "cell_type": "code",
      "metadata": {
        "id": "JuBKbD6rJbO-",
        "colab": {
          "base_uri": "https://localhost:8080/"
        },
        "outputId": "68a58e39-fbe2-4b17-bf3b-f552f4475b7d"
      },
      "source": [
        "# Modulus\n",
        "5%6"
      ],
      "execution_count": 7,
      "outputs": [
        {
          "output_type": "execute_result",
          "data": {
            "text/plain": [
              "5"
            ]
          },
          "metadata": {},
          "execution_count": 7
        }
      ]
    },
    {
      "cell_type": "code",
      "metadata": {
        "id": "GwB4UnlJJbPD",
        "colab": {
          "base_uri": "https://localhost:8080/"
        },
        "outputId": "ea29f692-f6d5-4560-d615-4f56a1ac4e82"
      },
      "source": [
        "# Order of Operations followed in Python\n",
        "2 + 10 * 10 + 3"
      ],
      "execution_count": 8,
      "outputs": [
        {
          "output_type": "execute_result",
          "data": {
            "text/plain": [
              "105"
            ]
          },
          "metadata": {},
          "execution_count": 8
        }
      ]
    },
    {
      "cell_type": "code",
      "metadata": {
        "id": "tL0-wPcvJbPF",
        "colab": {
          "base_uri": "https://localhost:8080/"
        },
        "outputId": "67bb8b2c-537d-4e97-aef9-3aa2eabe125a"
      },
      "source": [
        "2+ 10* (10+3)"
      ],
      "execution_count": 9,
      "outputs": [
        {
          "output_type": "execute_result",
          "data": {
            "text/plain": [
              "132"
            ]
          },
          "metadata": {},
          "execution_count": 9
        }
      ]
    },
    {
      "cell_type": "code",
      "metadata": {
        "id": "Zx1mkJYQJbPJ",
        "colab": {
          "base_uri": "https://localhost:8080/"
        },
        "outputId": "f528a272-d6f7-4b41-8167-c681373d5c1b"
      },
      "source": [
        "# Scientific Notation for representing large numbers\n",
        "4E6"
      ],
      "execution_count": 10,
      "outputs": [
        {
          "output_type": "execute_result",
          "data": {
            "text/plain": [
              "4000000.0"
            ]
          },
          "metadata": {},
          "execution_count": 10
        }
      ]
    },
    {
      "cell_type": "markdown",
      "metadata": {
        "id": "SAG3VykOJbPM"
      },
      "source": [
        "## Let's talk about numbers!\n",
        "\n",
        "* A lot many different types of numbers are supported in Python like integers (int type), real numbers (float type), complex numbers. We will mostly use integer and floating point numbers.\n",
        "\n",
        "\n",
        "* Integers are just whole numbers, positive or negative. For example: 2 and -2 are examples of integers.\n",
        "\n",
        "\n",
        "* Floating point numbers in Python are notable because they have a decimal point in them, or use an exponential (E) to define the number. For example 2.0 and -2.1 are examples of floating point numbers. 4E2 (4 times 10 to the power of 2) is also an example of a floating point number in Python.\n",
        "\n",
        "\n",
        "* In computing, floating-point arithmetic is arithmetic using formulaic representation of real numbers as an approximation to support a trade-off between range and precision. You can always control the number of digits coming after the decimal, hence they are called floating-point numbers"
      ]
    },
    {
      "cell_type": "markdown",
      "metadata": {
        "id": "mdf-bQxnJbPN"
      },
      "source": [
        "### The table below summarises the two numeric data types, Integers and Floats:\n",
        "<table>\n",
        "<tr>\n",
        "    <th>Examples</th> \n",
        "    <th>Number \"Type\"</th>\n",
        "</tr>\n",
        "\n",
        "<tr>\n",
        "    <td>1,2,-5,1000</td>\n",
        "    <td>Integers</td> \n",
        "</tr>\n",
        "\n",
        "<tr>\n",
        "    <td>1.2,-0.5,2e2,3E2</td> \n",
        "    <td>Floating-point numbers</td> \n",
        "</tr>\n",
        " </table>"
      ]
    },
    {
      "cell_type": "markdown",
      "metadata": {
        "id": "rU046YbcJbPN"
      },
      "source": [
        "## <u> What is a Variable? <u/>"
      ]
    },
    {
      "cell_type": "markdown",
      "metadata": {
        "id": "gW5YEnarJbPO"
      },
      "source": [
        "###  VARIABLES are entities which help us store information and retrieve it later. \n",
        "\n",
        " * A variable with a fixed name can store information of nature like numeric, textual, boolean etc.\n",
        " \n",
        " \n",
        " * A Python variable is a reserved memory location to store values. In other words, a variable in a python program gives data to the computer for processing.\n",
        " \n",
        " \n",
        " * The type of data contained in a variable can be changed at user's will. "
      ]
    },
    {
      "cell_type": "code",
      "metadata": {
        "id": "GMzBISF_JbPO"
      },
      "source": [
        "# You can store numbers in variables.\n",
        "# The standard rule is you write the variable name followed by = sign and the value it will take\n",
        "\n",
        "x=5"
      ],
      "execution_count": 11,
      "outputs": []
    },
    {
      "cell_type": "code",
      "metadata": {
        "id": "sfHKamM3JbPR",
        "colab": {
          "base_uri": "https://localhost:8080/"
        },
        "outputId": "c3f3db3b-2f97-4db3-b7d4-1e373a0d6cfb"
      },
      "source": [
        "x"
      ],
      "execution_count": 12,
      "outputs": [
        {
          "output_type": "execute_result",
          "data": {
            "text/plain": [
              "5"
            ]
          },
          "metadata": {},
          "execution_count": 12
        }
      ]
    },
    {
      "cell_type": "code",
      "metadata": {
        "id": "UedV9GDlJbPU",
        "colab": {
          "base_uri": "https://localhost:8080/"
        },
        "outputId": "b8a5fbc5-c0c6-4566-c895-f365a894e042"
      },
      "source": [
        "y=6.4\n",
        "y"
      ],
      "execution_count": 13,
      "outputs": [
        {
          "output_type": "execute_result",
          "data": {
            "text/plain": [
              "6.4"
            ]
          },
          "metadata": {},
          "execution_count": 13
        }
      ]
    },
    {
      "cell_type": "code",
      "metadata": {
        "id": "OcUpyTY2Z4Fn",
        "colab": {
          "base_uri": "https://localhost:8080/"
        },
        "outputId": "df6b6115-2536-4bbb-e96f-74fe7d4a0d62"
      },
      "source": [
        "print(y)"
      ],
      "execution_count": 14,
      "outputs": [
        {
          "output_type": "stream",
          "name": "stdout",
          "text": [
            "6.4\n"
          ]
        }
      ]
    },
    {
      "cell_type": "markdown",
      "metadata": {
        "id": "1--OZJQAJbPW"
      },
      "source": [
        "### Basic Arithmetic operations we can do on x and y. Later we will be doing operations on thousands of such numbers in one go!"
      ]
    },
    {
      "cell_type": "code",
      "metadata": {
        "id": "BNWS99YXJbPX",
        "colab": {
          "base_uri": "https://localhost:8080/"
        },
        "outputId": "a57960a6-bdcc-4868-d233-febfe3f2d095"
      },
      "source": [
        "# Addition\n",
        "z = x+y\n",
        "\n",
        "print(z)"
      ],
      "execution_count": 15,
      "outputs": [
        {
          "output_type": "stream",
          "name": "stdout",
          "text": [
            "11.4\n"
          ]
        }
      ]
    },
    {
      "cell_type": "code",
      "metadata": {
        "id": "zusqZqZTJbPZ",
        "outputId": "217b5084-3e88-4a76-955b-4e855aadfb56",
        "colab": {
          "base_uri": "https://localhost:8080/"
        }
      },
      "source": [
        "# Printing the memory address the variable z occupies\n",
        "print(hex(id(z)))"
      ],
      "execution_count": 16,
      "outputs": [
        {
          "output_type": "stream",
          "name": "stdout",
          "text": [
            "0x7f840061efb0\n"
          ]
        }
      ]
    },
    {
      "cell_type": "markdown",
      "metadata": {
        "id": "eo0mqrbOJbPb"
      },
      "source": [
        "* ### A variable can be assigned different values and data types and it will store the last value assigned"
      ]
    },
    {
      "cell_type": "code",
      "metadata": {
        "id": "GNgNOpjIJbPc",
        "colab": {
          "base_uri": "https://localhost:8080/"
        },
        "outputId": "3679dcc6-fc14-4916-d6b7-654fda586c07"
      },
      "source": [
        "# Subtraction\n",
        "z = x-y\n",
        "\n",
        "# Use the in-built print function to print the variable\n",
        "print(z)"
      ],
      "execution_count": 17,
      "outputs": [
        {
          "output_type": "stream",
          "name": "stdout",
          "text": [
            "-1.4000000000000004\n"
          ]
        }
      ]
    },
    {
      "cell_type": "code",
      "metadata": {
        "id": "uQWOqYjdJbPe",
        "outputId": "9949df4e-9a22-45fa-9e12-6d85e017af1e",
        "colab": {
          "base_uri": "https://localhost:8080/"
        }
      },
      "source": [
        "# Printing the memory address the variable z occupies\n",
        "print(hex(id(z)))"
      ],
      "execution_count": 18,
      "outputs": [
        {
          "output_type": "stream",
          "name": "stdout",
          "text": [
            "0x7f840061ee50\n"
          ]
        }
      ]
    },
    {
      "cell_type": "code",
      "metadata": {
        "id": "RajV71HZJbPh",
        "colab": {
          "base_uri": "https://localhost:8080/"
        },
        "outputId": "f7b4e54e-54cd-453c-c00b-f6c01e4b0c1b"
      },
      "source": [
        " # Find out the data type of variable z\n",
        "type(y) "
      ],
      "execution_count": 19,
      "outputs": [
        {
          "output_type": "execute_result",
          "data": {
            "text/plain": [
              "float"
            ]
          },
          "metadata": {},
          "execution_count": 19
        }
      ]
    },
    {
      "cell_type": "code",
      "metadata": {
        "id": "WThvonSGJbPk",
        "colab": {
          "base_uri": "https://localhost:8080/"
        },
        "outputId": "69b13c41-7ca1-46d1-d0b9-761d2f5799e8"
      },
      "source": [
        "# Multiplication\n",
        "z = x*y\n",
        "\n",
        "print(z)  # Print the variable z\n",
        "type(z)   # Get the data type of variable z"
      ],
      "execution_count": 20,
      "outputs": [
        {
          "output_type": "stream",
          "name": "stdout",
          "text": [
            "32.0\n"
          ]
        },
        {
          "output_type": "execute_result",
          "data": {
            "text/plain": [
              "float"
            ]
          },
          "metadata": {},
          "execution_count": 20
        }
      ]
    },
    {
      "cell_type": "code",
      "metadata": {
        "id": "Jz0GA8TtJbPn",
        "colab": {
          "base_uri": "https://localhost:8080/"
        },
        "outputId": "aa50be7c-aac7-4740-c039-789ecb3c51b3"
      },
      "source": [
        "# Division\n",
        "z = x/y\n",
        "\n",
        "print(z) # Print the variable z\n",
        "type(z)  # Get the data type of variable z"
      ],
      "execution_count": 21,
      "outputs": [
        {
          "output_type": "stream",
          "name": "stdout",
          "text": [
            "0.78125\n"
          ]
        },
        {
          "output_type": "execute_result",
          "data": {
            "text/plain": [
              "float"
            ]
          },
          "metadata": {},
          "execution_count": 21
        }
      ]
    },
    {
      "cell_type": "code",
      "metadata": {
        "id": "UFPxHaByJbPp",
        "colab": {
          "base_uri": "https://localhost:8080/"
        },
        "outputId": "c501461e-1762-4bed-faa1-d7a9c435606f"
      },
      "source": [
        "# Floor division\n",
        "z= x//y  #  Remember x=5, y=6.4\n",
        "print(z)"
      ],
      "execution_count": 22,
      "outputs": [
        {
          "output_type": "stream",
          "name": "stdout",
          "text": [
            "0.0\n"
          ]
        }
      ]
    },
    {
      "cell_type": "markdown",
      "metadata": {
        "id": "tRtsrmQoJbPt"
      },
      "source": [
        "### Waittt! Shouldn't it be 0.75??\n",
        "* The reason we get this result is because we are using \"*floor*\" division. The <code>//</code> operator (two forward slashes) is the mathematical equivalent of doing [0.75] which returns the greatest integer less than or equal to 0.75"
      ]
    },
    {
      "cell_type": "code",
      "metadata": {
        "id": "mkmUH8cuJbPu",
        "colab": {
          "base_uri": "https://localhost:8080/"
        },
        "outputId": "031300d6-0c84-4ff5-e0dc-8bbb99e136b4"
      },
      "source": [
        "# Modulo operator\n",
        "y=5\n",
        "x=3\n",
        "\n",
        "z = y%x       # Modulus is denoted by % sign\n",
        "print(z)"
      ],
      "execution_count": 23,
      "outputs": [
        {
          "output_type": "stream",
          "name": "stdout",
          "text": [
            "2\n"
          ]
        }
      ]
    },
    {
      "cell_type": "code",
      "metadata": {
        "id": "-gOV0xtCJbPz",
        "colab": {
          "base_uri": "https://localhost:8080/"
        },
        "outputId": "9837bb54-7430-4569-c6b8-7345b63a12e3"
      },
      "source": [
        "# Using powers and exponents\n",
        "\n",
        "z = x**y    # We did not even need to store it in another variable nor use print command\n",
        "print(z)"
      ],
      "execution_count": 24,
      "outputs": [
        {
          "output_type": "stream",
          "name": "stdout",
          "text": [
            "243\n"
          ]
        }
      ]
    },
    {
      "cell_type": "code",
      "metadata": {
        "id": "yjojlOq0JbP1",
        "colab": {
          "base_uri": "https://localhost:8080/"
        },
        "outputId": "2e7dd65e-fb57-45e8-ce91-ce4bb3152003"
      },
      "source": [
        "# BODMAS nostalgia\n",
        "some_random_operation =(x+y)/y + (y-x)*x     \n",
        "\n",
        "print(some_random_operation)\n",
        "type(some_random_operation)"
      ],
      "execution_count": 25,
      "outputs": [
        {
          "output_type": "stream",
          "name": "stdout",
          "text": [
            "7.6\n"
          ]
        },
        {
          "output_type": "execute_result",
          "data": {
            "text/plain": [
              "float"
            ]
          },
          "metadata": {},
          "execution_count": 25
        }
      ]
    },
    {
      "cell_type": "code",
      "metadata": {
        "id": "6GTBsnuoJbP4",
        "colab": {
          "base_uri": "https://localhost:8080/"
        },
        "outputId": "dd0a6cb2-6216-4a90-f3dd-5c102b257788"
      },
      "source": [
        "# Storing large integer numbers\n",
        "avogadro = 6.22E23\n",
        "\n",
        "print(avogadro)"
      ],
      "execution_count": 26,
      "outputs": [
        {
          "output_type": "stream",
          "name": "stdout",
          "text": [
            "6.22e+23\n"
          ]
        }
      ]
    },
    {
      "cell_type": "markdown",
      "metadata": {
        "id": "rxeNuG-pJbP6"
      },
      "source": [
        "##  Rules for naming a variable in Python\n",
        "\n",
        "* Variables names must start with a letter or an underscore like _ product , product_\n",
        "\n",
        "\n",
        "* The remainder of your variable name may consist of letters, numbers and underscores\n",
        "\n",
        "\n",
        "* spacy1, pyThon,machine_learning are some valid variable names\n",
        "\n",
        "\n",
        "* Names are case sensitive.\n",
        "\n",
        "\n",
        "* case_sensitive, CASE_SENSITIVE, and Case_Sensitive are each a different variable.\n"
      ]
    },
    {
      "cell_type": "code",
      "metadata": {
        "id": "40Ov9gtSJbP7"
      },
      "source": [
        "#1oNone = 4"
      ],
      "execution_count": 28,
      "outputs": []
    },
    {
      "cell_type": "code",
      "metadata": {
        "id": "OxnashdWfE2K"
      },
      "source": [
        "onone_abc_1 = 5"
      ],
      "execution_count": 29,
      "outputs": []
    },
    {
      "cell_type": "code",
      "metadata": {
        "id": "68UBfOefgmGr"
      },
      "source": [
        "list = 5"
      ],
      "execution_count": 30,
      "outputs": []
    },
    {
      "cell_type": "code",
      "metadata": {
        "id": "0DAMNZTLgp10",
        "colab": {
          "base_uri": "https://localhost:8080/"
        },
        "outputId": "f9b8b17b-af9d-4283-9ed3-be51758abdd9"
      },
      "source": [
        "list"
      ],
      "execution_count": 31,
      "outputs": [
        {
          "output_type": "execute_result",
          "data": {
            "text/plain": [
              "5"
            ]
          },
          "metadata": {},
          "execution_count": 31
        }
      ]
    },
    {
      "cell_type": "markdown",
      "metadata": {
        "id": "3IqwZAzbJbP-"
      },
      "source": [
        "* Names cannot begin with a number. Python will throw an error when you try to do so \n",
        "\n",
        "\n",
        "* Names can not contain spaces, use _ instead\n",
        "\n",
        "\n",
        "* Names can not contain any of these symbols:\n",
        "\n",
        "      :'\",<>/?|\\!@#%^&*~-+\n",
        "      \n",
        "      \n",
        "* It is considered best practice that names are lowercase with underscores\n",
        "\n",
        "\n",
        "* Avoid using Python built-in keywords like `list`, `str` , `def` etc. We will talk more about such conventions later on"
      ]
    },
    {
      "cell_type": "markdown",
      "metadata": {
        "id": "1y0i15DhJbP-"
      },
      "source": [
        "# <u>Boolean Variables </u>\n",
        "\n",
        "* A Boolean variable only takes two values either True or False. It is used for comparisons"
      ]
    },
    {
      "cell_type": "markdown",
      "metadata": {
        "id": "35lrqYk2JbP-"
      },
      "source": [
        "## Comparison Operators \n",
        "\n",
        "* These operators will allow us to compare variables and output a Boolean value (True or False). \n",
        "\n",
        "\n",
        "* If you have any sort of background in Math, these operators should be very straight forward.\n",
        "\n",
        "\n",
        "* First we'll present a table of the comparison operators and then work through some examples:\n",
        "\n",
        "\n",
        "* In the table below, a=3 and b=4.\n",
        "\n",
        "<table class=\"table table-bordered\">\n",
        "<tr>\n",
        "<th style=\"width:10%\">Operator</th><th style=\"width:45%\">Description</th><th>Example</th>\n",
        "</tr>\n",
        "<tr>\n",
        "<td>==</td>\n",
        "<td>If the values of two operands are equal, then the condition becomes true.</td>\n",
        "<td> (a == b) is not true.</td>\n",
        "</tr>\n",
        "<tr>\n",
        "<td>!=</td>\n",
        "<td>If values of two operands are not equal, then condition becomes true.</td>\n",
        "<td>(a != b) is true</td>\n",
        "</tr>\n",
        "<tr>\n",
        "<td>&gt;</td>\n",
        "<td>If the value of left operand is greater than the value of right operand, then condition becomes true.</td>\n",
        "<td> (a &gt; b) is not true.</td>\n",
        "</tr>\n",
        "<tr>\n",
        "<td>&lt;</td>\n",
        "<td>If the value of left operand is less than the value of right operand, then condition becomes true.</td>\n",
        "<td> (a &lt; b) is true.</td>\n",
        "</tr>\n",
        "<tr>\n",
        "<td>&gt;=</td>\n",
        "<td>If the value of left operand is greater than or equal to the value of right operand, then condition becomes true.</td>\n",
        "<td> (a &gt;= b) is not true. </td>\n",
        "</tr>\n",
        "<tr>\n",
        "<td>&lt;=</td>\n",
        "<td>If the value of left operand is less than or equal to the value of right operand, then condition becomes true.</td>\n",
        "<td> (a &lt;= b) is true. </td>\n",
        "</tr>\n",
        "</table>"
      ]
    },
    {
      "cell_type": "markdown",
      "metadata": {
        "id": "k5qrpfOfJbP_"
      },
      "source": [
        "* Python  comes with Booleans (with predefined True and False displays that are basically just the integers 1 and 0). It also has a placeholder object called None. Let's walk through a few quick examples of Booleans (we will dive deeper into them later in this course)."
      ]
    },
    {
      "cell_type": "code",
      "metadata": {
        "id": "4HGbSLf_JbP_",
        "colab": {
          "base_uri": "https://localhost:8080/"
        },
        "outputId": "a9be2360-c6de-46d4-9f0d-dbaa216d2c1e"
      },
      "source": [
        "# Set object to be a boolean\n",
        "boolean_variable = False\n",
        "type(boolean_variable)"
      ],
      "execution_count": 32,
      "outputs": [
        {
          "output_type": "execute_result",
          "data": {
            "text/plain": [
              "bool"
            ]
          },
          "metadata": {},
          "execution_count": 32
        }
      ]
    },
    {
      "cell_type": "code",
      "metadata": {
        "id": "KbXp_CYVJbQC"
      },
      "source": [
        "#Show\n",
        "boolean_variable"
      ],
      "execution_count": null,
      "outputs": []
    },
    {
      "cell_type": "markdown",
      "metadata": {
        "id": "XTNlwY9rJbQG"
      },
      "source": [
        "### Equal"
      ]
    },
    {
      "cell_type": "code",
      "metadata": {
        "id": "B2HBAmBxJbQG",
        "colab": {
          "base_uri": "https://localhost:8080/"
        },
        "outputId": "ed5df1ac-c6ca-4ce5-a7f3-7bd2f9e6f43f"
      },
      "source": [
        "2 == 3"
      ],
      "execution_count": 33,
      "outputs": [
        {
          "output_type": "execute_result",
          "data": {
            "text/plain": [
              "False"
            ]
          },
          "metadata": {},
          "execution_count": 33
        }
      ]
    },
    {
      "cell_type": "code",
      "metadata": {
        "id": "St2N7ToUJbQI",
        "outputId": "a1be41c8-bd5c-4da7-e9a0-cc6ae7127589",
        "colab": {
          "base_uri": "https://localhost:8080/"
        }
      },
      "source": [
        "2==0"
      ],
      "execution_count": 34,
      "outputs": [
        {
          "output_type": "execute_result",
          "data": {
            "text/plain": [
              "False"
            ]
          },
          "metadata": {},
          "execution_count": 34
        }
      ]
    },
    {
      "cell_type": "markdown",
      "metadata": {
        "id": "rffDn2hzJbQM"
      },
      "source": [
        "* <u> Note that <code>==</code> is a comparison operator, while <code>=</code> is an assignment operator. </u>"
      ]
    },
    {
      "cell_type": "markdown",
      "metadata": {
        "id": "zXobe57HJbQM"
      },
      "source": [
        "### Not equal"
      ]
    },
    {
      "cell_type": "code",
      "metadata": {
        "id": "-ITcsIujJbQM",
        "colab": {
          "base_uri": "https://localhost:8080/"
        },
        "outputId": "42e6f3a1-a612-41c2-a087-92081507a625"
      },
      "source": [
        "2!=0"
      ],
      "execution_count": 35,
      "outputs": [
        {
          "output_type": "execute_result",
          "data": {
            "text/plain": [
              "True"
            ]
          },
          "metadata": {},
          "execution_count": 35
        }
      ]
    },
    {
      "cell_type": "code",
      "metadata": {
        "id": "MeLL5zC4JbQQ",
        "colab": {
          "base_uri": "https://localhost:8080/"
        },
        "outputId": "470696fc-a23a-49e4-a6a6-ef35226bad56"
      },
      "source": [
        "2!=2"
      ],
      "execution_count": 36,
      "outputs": [
        {
          "output_type": "execute_result",
          "data": {
            "text/plain": [
              "False"
            ]
          },
          "metadata": {},
          "execution_count": 36
        }
      ]
    },
    {
      "cell_type": "markdown",
      "metadata": {
        "id": "JCs_Qrt-JbQS"
      },
      "source": [
        "### Greater than"
      ]
    },
    {
      "cell_type": "code",
      "metadata": {
        "scrolled": true,
        "id": "JVbaxgIDJbQS",
        "colab": {
          "base_uri": "https://localhost:8080/"
        },
        "outputId": "9c678e53-2c3b-40f4-9257-cd96050c38ed"
      },
      "source": [
        "a=3\n",
        "b=2\n",
        "a> b"
      ],
      "execution_count": 51,
      "outputs": [
        {
          "output_type": "execute_result",
          "data": {
            "text/plain": [
              "True"
            ]
          },
          "metadata": {},
          "execution_count": 51
        }
      ]
    },
    {
      "cell_type": "code",
      "metadata": {
        "id": "PZ1zdvTTJbQU",
        "colab": {
          "base_uri": "https://localhost:8080/"
        },
        "outputId": "aaa248d8-24dd-43da-dbc9-751f69fd557e"
      },
      "source": [
        "a == 3"
      ],
      "execution_count": 52,
      "outputs": [
        {
          "output_type": "execute_result",
          "data": {
            "text/plain": [
              "True"
            ]
          },
          "metadata": {},
          "execution_count": 52
        }
      ]
    },
    {
      "cell_type": "code",
      "metadata": {
        "id": "C6ChRkkxJbQW",
        "colab": {
          "base_uri": "https://localhost:8080/"
        },
        "outputId": "a269a743-c8d3-43eb-8438-9b09211eee81"
      },
      "source": [
        "b > 4"
      ],
      "execution_count": 53,
      "outputs": [
        {
          "output_type": "execute_result",
          "data": {
            "text/plain": [
              "False"
            ]
          },
          "metadata": {},
          "execution_count": 53
        }
      ]
    },
    {
      "cell_type": "markdown",
      "metadata": {
        "id": "HXhCSJvBJbQY"
      },
      "source": [
        "### Less than"
      ]
    },
    {
      "cell_type": "code",
      "metadata": {
        "id": "AffaxmdTJbQY",
        "colab": {
          "base_uri": "https://localhost:8080/"
        },
        "outputId": "8ba30e0b-5ce6-41b0-9a83-1f81d5506864"
      },
      "source": [
        "10 < 45"
      ],
      "execution_count": 54,
      "outputs": [
        {
          "output_type": "execute_result",
          "data": {
            "text/plain": [
              "True"
            ]
          },
          "metadata": {},
          "execution_count": 54
        }
      ]
    },
    {
      "cell_type": "code",
      "metadata": {
        "id": "yX1roPJCJbQa",
        "colab": {
          "base_uri": "https://localhost:8080/"
        },
        "outputId": "719a89ed-5dd0-4527-9aa1-7bf06f229b72"
      },
      "source": [
        "4 < 2"
      ],
      "execution_count": 55,
      "outputs": [
        {
          "output_type": "execute_result",
          "data": {
            "text/plain": [
              "False"
            ]
          },
          "metadata": {},
          "execution_count": 55
        }
      ]
    },
    {
      "cell_type": "markdown",
      "metadata": {
        "id": "HHQGVtfyJbQe"
      },
      "source": [
        "### Greater than or equal to"
      ]
    },
    {
      "cell_type": "code",
      "metadata": {
        "id": "_Qw-yrpRJbQe",
        "colab": {
          "base_uri": "https://localhost:8080/"
        },
        "outputId": "92e2bbf9-1cb8-40f1-e599-b4fd33f3aad3"
      },
      "source": [
        "3 >=2"
      ],
      "execution_count": 56,
      "outputs": [
        {
          "output_type": "execute_result",
          "data": {
            "text/plain": [
              "True"
            ]
          },
          "metadata": {},
          "execution_count": 56
        }
      ]
    },
    {
      "cell_type": "code",
      "metadata": {
        "id": "Cj3UpbKTJbQh",
        "colab": {
          "base_uri": "https://localhost:8080/"
        },
        "outputId": "c5200e1b-a293-4ab9-a989-6fa57817774c"
      },
      "source": [
        "4 >= 4"
      ],
      "execution_count": 57,
      "outputs": [
        {
          "output_type": "execute_result",
          "data": {
            "text/plain": [
              "True"
            ]
          },
          "metadata": {},
          "execution_count": 57
        }
      ]
    },
    {
      "cell_type": "markdown",
      "metadata": {
        "id": "9A0hrb1EJbQk"
      },
      "source": [
        "### Less than or equal to"
      ]
    },
    {
      "cell_type": "code",
      "metadata": {
        "id": "CCg2vqNOJbQl",
        "colab": {
          "base_uri": "https://localhost:8080/"
        },
        "outputId": "7391dbff-1cff-476d-fc1d-68068dd2cccb"
      },
      "source": [
        "3 <= 0"
      ],
      "execution_count": 49,
      "outputs": [
        {
          "output_type": "execute_result",
          "data": {
            "text/plain": [
              "False"
            ]
          },
          "metadata": {},
          "execution_count": 49
        }
      ]
    },
    {
      "cell_type": "code",
      "metadata": {
        "id": "s9BkZBJDJbQm",
        "colab": {
          "base_uri": "https://localhost:8080/"
        },
        "outputId": "e2107d18-1636-4195-b433-a67fda229bbc"
      },
      "source": [
        "1 <= 2"
      ],
      "execution_count": 50,
      "outputs": [
        {
          "output_type": "execute_result",
          "data": {
            "text/plain": [
              "True"
            ]
          },
          "metadata": {},
          "execution_count": 50
        }
      ]
    },
    {
      "cell_type": "code",
      "metadata": {
        "id": "TQqmyhbIk9Ol"
      },
      "source": [],
      "execution_count": 50,
      "outputs": []
    }
  ]
}