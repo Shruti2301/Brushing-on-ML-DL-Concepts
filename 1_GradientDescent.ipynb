{
  "nbformat": 4,
  "nbformat_minor": 0,
  "metadata": {
    "colab": {
      "provenance": []
    },
    "kernelspec": {
      "name": "python3",
      "display_name": "Python 3"
    },
    "language_info": {
      "name": "python"
    }
  },
  "cells": [
    {
      "cell_type": "code",
      "source": [
        "import numpy as np\n",
        "from sklearn.datasets import fetch_california_housing\n",
        "from sklearn.linear_model import Ridge\n",
        "\n",
        "# Function for Ordinary Least Squares (OLS) using Gradient Descent\n",
        "def OLS_GD(x, y, eta=1e-3, n_iter=1e4, add_intercept=True):\n",
        "    if add_intercept:\n",
        "        ones = np.ones((x.shape[0])).reshape(-1, 1)  # Adding Intercept term\n",
        "        X = np.concatenate((ones, x), 1)  # Concatenating intercept with features\n",
        "\n",
        "    beta_hat = np.random.randn(X.shape[1])  # Initializing beta coefficients randomly\n",
        "\n",
        "    # Gradient Descent loop\n",
        "    for i in range(int(n_iter)):\n",
        "        y_hat = np.dot(X, beta_hat)  # Predictions using current coefficients\n",
        "        delta = - X.T @ (y - y_hat)  # Gradient of the loss function\n",
        "        beta_hat -= delta * eta  # Updating coefficients using the gradient\n",
        "\n",
        "# Loading California housing dataset\n",
        "housing = fetch_california_housing()\n",
        "X = housing.data  # Features\n",
        "y = housing.target  # Target variable\n",
        "\n",
        "N = X.shape[0]  # Number of samples\n",
        "potential_alphas = [0, 1, 10]  # List of regularization strengths (alphas)\n",
        "error_by_alpha = np.zeros(len(potential_alphas))  # Array to store errors for each alpha\n",
        "\n",
        "K = 5  # Number of folds for cross-validation\n",
        "indices = np.arange(N)\n",
        "np.random.shuffle(indices)\n",
        "folds = np.array_split(indices, K)  # Splitting indices into K folds\n",
        "\n",
        "# Cross-validation loop\n",
        "for k in range(K):\n",
        "    x_train = np.delete(X, folds[k], 0)  # Training features excluding current fold\n",
        "    y_train = np.delete(y, folds[k], 0)  # Training target excluding current fold\n",
        "    X_val = X[folds[k]]  # Validation features for current fold\n",
        "    y_val = y[folds[k]]  # Validation target for current fold\n",
        "\n",
        "    # Loop over potential alpha values for Ridge regression\n",
        "    for i in range(len(potential_alphas)):\n",
        "        model = Ridge(alpha=potential_alphas[i])  # Creating Ridge regression model\n",
        "        model.fit(x_train, y_train)  # Fitting the model on training data\n",
        "        y_pred = model.predict(X_val)  # Predictions on validation data\n",
        "        error_by_alpha[i] += np.sum((y_val - y_pred) ** 2)  # Calculating sum of squared errors\n",
        "\n",
        "# Averaging errors across folds to obtain mean squared error for each alpha\n",
        "error_by_alpha /= N\n",
        "\n",
        "print(\"Mean squared error for each alpha:\", error_by_alpha)  # Printing mean squared error for each alpha\n",
        "\n",
        "# Conclusion and interpretation\n",
        "best_alpha_index = np.argmin(error_by_alpha)  # Finding index of alpha with lowest error\n",
        "best_alpha = potential_alphas[best_alpha_index]  # Getting the best alpha value\n",
        "print(\"Best alpha value:\", best_alpha)\n",
        "print(\"Lowest mean squared error:\", error_by_alpha[best_alpha_index])"
      ],
      "metadata": {
        "colab": {
          "base_uri": "https://localhost:8080/"
        },
        "id": "WIDjzHCmlFWs",
        "outputId": "d617e87c-6cbc-46ca-f57d-7bc853c39533"
      },
      "execution_count": 4,
      "outputs": [
        {
          "output_type": "stream",
          "name": "stdout",
          "text": [
            "Mean squared error for each alpha: [0.52886875 0.52885079 0.52869992]\n",
            "Best alpha value: 10\n",
            "Lowest mean squared error: 0.5286999212022216\n"
          ]
        }
      ]
    },
    {
      "cell_type": "code",
      "source": [],
      "metadata": {
        "id": "qnFOYsPhuHJW"
      },
      "execution_count": null,
      "outputs": []
    }
  ]
}